version https://git-lfs.github.com/spec/v1
oid sha256:5699bc7ada7b206c90c5406ec18ba95811d66bb1b3c3ccdba256061d14cf1153
size 26768
